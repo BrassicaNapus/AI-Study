{
  "nbformat": 4,
  "nbformat_minor": 0,
  "metadata": {
    "colab": {
      "name": "7-2주차.ipynb",
      "provenance": [],
      "authorship_tag": "ABX9TyNf5kj2ImRy7REMg5hd33H/",
      "include_colab_link": true
    },
    "kernelspec": {
      "name": "python3",
      "display_name": "Python 3"
    }
  },
  "cells": [
    {
      "cell_type": "markdown",
      "metadata": {
        "id": "view-in-github",
        "colab_type": "text"
      },
      "source": [
        "<a href=\"https://colab.research.google.com/github/yujungha/AI-Study/blob/main/7_2%EC%A3%BC%EC%B0%A8.ipynb\" target=\"_parent\"><img src=\"https://colab.research.google.com/assets/colab-badge.svg\" alt=\"Open In Colab\"/></a>"
      ]
    },
    {
      "cell_type": "code",
      "metadata": {
        "id": "KFH3nBVtMtQH"
      },
      "source": [
        "import numpy as np"
      ],
      "execution_count": null,
      "outputs": []
    },
    {
      "cell_type": "code",
      "metadata": {
        "colab": {
          "base_uri": "https://localhost:8080/"
        },
        "id": "h7fgVwQ5MvtU",
        "outputId": "8453271d-acee-49f1-e68e-cff4fa24982b"
      },
      "source": [
        "X1 = 1\r\n",
        "X2 = 2\r\n",
        "\r\n",
        "Y1 = 2\r\n",
        "Y2 = 1\r\n",
        "\r\n",
        "a = 0.1\r\n",
        "\r\n",
        "W11 = 0.1\r\n",
        "W12 = 0.2\r\n",
        "W21 = 0.3\r\n",
        "W22 = 0.1\r\n",
        "\r\n",
        "O1 = X1 * W11 + X2 * W21\r\n",
        "O2 = X1 * W12 + X2 * W22\r\n",
        "\r\n",
        "E1 = (Y1 - O1)**2\r\n",
        "E2 = (Y2 - O2)**2\r\n",
        "\r\n",
        "dE1dW11 = -2 * (Y1 - O1) * X1\r\n",
        "dE1dW21 = -2 * (Y1 - O1) * X2\r\n",
        "dE2dW12 = -2 * (Y2 - O2) * X1\r\n",
        "dE2dW22 = -2 * (Y2 - O2) * X2\r\n",
        "\r\n",
        "W11 = W11 - a * dE1dW11\r\n",
        "W21 = W21 - a * dE1dW21\r\n",
        "W12 = W12 - a * dE2dW12\r\n",
        "W22 = W22 - a * dE2dW22\r\n",
        "\r\n",
        "print(np.array([[dE1dW11, dE2dW12],\r\n",
        "                [dE1dW21, dE2dW22]]))"
      ],
      "execution_count": null,
      "outputs": [
        {
          "output_type": "stream",
          "text": [
            "[[-2.6 -1.2]\n",
            " [-5.2 -2.4]]\n"
          ],
          "name": "stdout"
        }
      ]
    }
  ]
}