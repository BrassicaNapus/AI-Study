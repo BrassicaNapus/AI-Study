{
  "nbformat": 4,
  "nbformat_minor": 0,
  "metadata": {
    "colab": {
      "name": "ML-Lec02.ipynb",
      "provenance": [],
      "authorship_tag": "ABX9TyN5UE5zWPr3BKGUzyFJEfsf",
      "include_colab_link": true
    },
    "kernelspec": {
      "name": "python3",
      "display_name": "Python 3"
    },
    "language_info": {
      "name": "python"
    }
  },
  "cells": [
    {
      "cell_type": "markdown",
      "metadata": {
        "id": "view-in-github",
        "colab_type": "text"
      },
      "source": [
        "<a href=\"https://colab.research.google.com/github/yujungha/AI-Study/blob/main/ML_Lec02.ipynb\" target=\"_parent\"><img src=\"https://colab.research.google.com/assets/colab-badge.svg\" alt=\"Open In Colab\"/></a>"
      ]
    },
    {
      "cell_type": "code",
      "metadata": {
        "colab": {
          "base_uri": "https://localhost:8080/"
        },
        "id": "3UcRVQrZMVFk",
        "outputId": "0eb6e5c1-475a-4d5b-eae9-d3d534805533"
      },
      "source": [
        "try:\n",
        "  # This %tensorflow_version magic only works in Colab.\n",
        "  %tensorflow_version 1.x\n",
        "except Exception:\n",
        "  pass\n",
        "\n",
        "# For your non-Colab code, be sure you have tensorflow==1.15\n",
        "import tensorflow as tf\n",
        "assert tf.__version__.startswith('1')\n",
        "print(tf.__version__)"
      ],
      "execution_count": 1,
      "outputs": [
        {
          "output_type": "stream",
          "text": [
            "TensorFlow 1.x selected.\n",
            "1.15.2\n"
          ],
          "name": "stdout"
        }
      ]
    },
    {
      "cell_type": "code",
      "metadata": {
        "colab": {
          "base_uri": "https://localhost:8080/"
        },
        "id": "pnCXH2kOMK_3",
        "outputId": "234ebb92-4a91-49c5-fc57-7657563cee9d"
      },
      "source": [
        "# X and Y data\n",
        "x_train = [1, 2, 3]\n",
        "y_train = [1, 2, 3]\n",
        "\n",
        "W = tf.Variable(tf.random_normal([1]), name='weight')\n",
        "b = tf.Variable(tf.random_normal([1]), name='bias')\n",
        "\n",
        "# Our hypothesis xW + b\n",
        "hypothesis = x_train * W + b\n",
        "\n",
        "# cost/Loss function\n",
        "cost = tf.reduce_mean(tf.square(hypothesis - y_train))\n",
        "'''\n",
        "\n",
        "t = [1., 2., 3., 4.]\n",
        "tf.reduce_mean(t) ==> 2.5\n",
        "\n",
        "'''\n",
        "\n",
        "# Minimize\n",
        "optimizer = tf.train.GradientDescentOptimizer(learning_rate=0.01)\n",
        "train = optimizer.minimize(cost)\n",
        "\n",
        "# Launch the graph in a session\n",
        "sess = tf.Session()\n",
        "# Initializes global variables in the graph\n",
        "sess.run(tf.global_variables_initializer())\n",
        "\n",
        "# Fit the Line\n",
        "for step in range(2001):\n",
        "  sess.run(train)\n",
        "  if step % 200 == 0:\n",
        "    print(step, sess.run(cost), sess.run(W), sess.run(b))"
      ],
      "execution_count": 12,
      "outputs": [
        {
          "output_type": "stream",
          "text": [
            "0 1.0163579 [0.934348] [-0.8754155]\n",
            "200 0.027557896 [1.1928053] [-0.43829185]\n",
            "400 0.010522973 [1.119142] [-0.2708379]\n",
            "600 0.004018178 [1.0736225] [-0.16736123]\n",
            "800 0.0015343303 [1.0454941] [-0.10341898]\n",
            "1000 0.00058588415 [1.0281126] [-0.06390673]\n",
            "1200 0.00022371935 [1.0173719] [-0.03949045]\n",
            "1400 8.5426545e-05 [1.0107348] [-0.02440267]\n",
            "1600 3.262121e-05 [1.0066336] [-0.01507957]\n",
            "1800 1.24563985e-05 [1.0040992] [-0.00931837]\n",
            "2000 4.756772e-06 [1.0025332] [-0.00575834]\n"
          ],
          "name": "stdout"
        }
      ]
    },
    {
      "cell_type": "code",
      "metadata": {
        "id": "MCn-8rr9snn3",
        "colab": {
          "base_uri": "https://localhost:8080/"
        },
        "outputId": "c9e8f499-5956-4c61-9900-3ede5ae07af9"
      },
      "source": [
        "W = tf.Variable(tf.random_normal([1]), name='weight')\n",
        "b = tf.Variable(tf.random_normal([1]), name='bias')\n",
        "X = tf.placeholder(tf.float32, shape=[None])\n",
        "Y = tf.placeholder(tf.float32, shape=[None])\n",
        "\n",
        "hypothesis = X * W + b\n",
        "cost = tf.reduce_mean(tf.square(hypothesis - Y))\n",
        "optimizer = tf.train.GradientDescentOptimizer(learning_rate=0.01)\n",
        "train = optimizer.minimize(cost)\n",
        "\n",
        "sess = tf.Session()\n",
        "sess.run(tf.global_variables_initializer())\n",
        "\n",
        "for step in range(2001):\n",
        "  cost_val, W_val, b_val, _ = sess.run([cost, W, b, train],\n",
        "                                       feed_dict={X: [1, 2, 3, 4, 5], Y: [2.1, 3.1, 4.1, 5.1, 6.1]}) # w = 1, b = 1.1\n",
        "  if step % 200 == 0:\n",
        "    print(step, cost_val, W_val, b_val)\n",
        "\n",
        "print(sess.run(hypothesis, feed_dict={X: [5]}))\n",
        "print(sess.run(hypothesis, feed_dict={X: [2.5]}))\n",
        "print(sess.run(hypothesis, feed_dict={X: [1.5, 3.5]}))"
      ],
      "execution_count": 11,
      "outputs": [
        {
          "output_type": "stream",
          "text": [
            "0 5.20477 [1.1542674] [-1.1899785]\n",
            "200 0.22194307 [1.3048232] [-0.00050862]\n",
            "400 0.05726812 [1.1548402] [0.5409776]\n",
            "600 0.01477693 [1.0786538] [0.8160349]\n",
            "800 0.0038129024 [1.0399535] [0.9557551]\n",
            "1000 0.0009838447 [1.020295] [1.0267283]\n",
            "1200 0.0002538673 [1.0103095] [1.0627799]\n",
            "1400 6.550202e-05 [1.0052366] [1.0810939]\n",
            "1600 1.690267e-05 [1.00266] [1.090396]\n",
            "1800 4.360892e-06 [1.0013512] [1.0951217]\n",
            "2000 1.1257719e-06 [1.0006865] [1.0975214]\n",
            "[6.100954]\n",
            "[3.599238]\n",
            "[2.5985513 4.599924 ]\n"
          ],
          "name": "stdout"
        }
      ]
    }
  ]
}