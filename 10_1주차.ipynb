{
  "nbformat": 4,
  "nbformat_minor": 0,
  "metadata": {
    "colab": {
      "name": "10-1주차.ipynb",
      "provenance": [],
      "authorship_tag": "ABX9TyPPeWDT87vKSgX1SbDWHwzJ",
      "include_colab_link": true
    },
    "kernelspec": {
      "name": "python3",
      "display_name": "Python 3"
    },
    "language_info": {
      "name": "python"
    }
  },
  "cells": [
    {
      "cell_type": "markdown",
      "metadata": {
        "id": "view-in-github",
        "colab_type": "text"
      },
      "source": [
        "<a href=\"https://colab.research.google.com/github/yujungha/AI-Study/blob/main/10_1%EC%A3%BC%EC%B0%A8.ipynb\" target=\"_parent\"><img src=\"https://colab.research.google.com/assets/colab-badge.svg\" alt=\"Open In Colab\"/></a>"
      ]
    },
    {
      "cell_type": "code",
      "metadata": {
        "id": "vN6oHeSA9j3P"
      },
      "source": [
        "!mkdir -p ~/.kaggle\n",
        "!cp kaggle.json ~/.kaggle/\n",
        "!chmod 600 ~/.kaggle/kaggle.json"
      ],
      "execution_count": 5,
      "outputs": []
    },
    {
      "cell_type": "code",
      "metadata": {
        "colab": {
          "base_uri": "https://localhost:8080/"
        },
        "id": "MvfSWPqY95c_",
        "outputId": "a4b832b4-480e-4555-e2ad-91c70cd54a41"
      },
      "source": [
        "!kaggle competitions download -c titanic"
      ],
      "execution_count": 6,
      "outputs": [
        {
          "output_type": "stream",
          "text": [
            "Warning: Looks like you're using an outdated API Version, please consider updating (server 1.5.12 / client 1.5.4)\n",
            "Downloading train.csv to /content\n",
            "  0% 0.00/59.8k [00:00<?, ?B/s]\n",
            "100% 59.8k/59.8k [00:00<00:00, 22.3MB/s]\n",
            "Downloading test.csv to /content\n",
            "  0% 0.00/28.0k [00:00<?, ?B/s]\n",
            "100% 28.0k/28.0k [00:00<00:00, 22.3MB/s]\n",
            "Downloading gender_submission.csv to /content\n",
            "  0% 0.00/3.18k [00:00<?, ?B/s]\n",
            "100% 3.18k/3.18k [00:00<00:00, 2.78MB/s]\n"
          ],
          "name": "stdout"
        }
      ]
    },
    {
      "cell_type": "code",
      "metadata": {
        "id": "oWUpEFex-EDc"
      },
      "source": [
        "import numpy as np\n",
        "import pandas as pd\n",
        "import matplotlib.pyplot as plt\n",
        "import torch\n",
        "import torch.optim as optim\n",
        "import torch.nn as nn"
      ],
      "execution_count": 7,
      "outputs": []
    },
    {
      "cell_type": "code",
      "metadata": {
        "colab": {
          "base_uri": "https://localhost:8080/"
        },
        "id": "4L3ZG-6w-XvO",
        "outputId": "6253d85f-6087-45ff-a3bf-60a7f1c5b45b"
      },
      "source": [
        "df = pd.read_csv('train.csv')\n",
        "df2 = df[['Survived', 'Pclass', 'Sex', 'Age', 'Fare']].reset_index()\n",
        "\n",
        "df2.loc[:,'Sex'] = df2.loc[:,'Sex'].str.replace('female', '0')\n",
        "df2.loc[:,'Sex'] = df2.loc[:,'Sex'].str.replace('male', '1')\n",
        "df2['Sex'] = df2['Sex'].astype(int)\n",
        "df2['Pclass'] = round(df2['Pclass'] / 3, 1)\n",
        "df2['Age'] = round(df2['Age'] / 80 , 1)\n",
        "df2 = df2.dropna(subset=['Age'])\n",
        "df2['Fare'] = round(df2['Fare'] / df2['Fare'].max() , 3)\n",
        "df3 = df2['Survived'].values\n",
        "df3 = df3.reshape(-1, 1)\n",
        "del df2['index']\n",
        "del df2['Survived']\n",
        "\n",
        "x_train = torch.FloatTensor(df2.values)\n",
        "y_train = torch.FloatTensor(df3)\n",
        "\n",
        "model = nn.Sequential(\n",
        "    nn.Linear(4, 50),\n",
        "    nn.ReLU(),\n",
        "    nn.Linear(50, 50),\n",
        "    nn.ReLU(),\n",
        "    nn.Linear(50, 50),\n",
        "    nn.ReLU(),\n",
        "    nn.Linear(50, 50),\n",
        "    nn.ReLU(),\n",
        "    nn.Linear(50, 50),\n",
        "    nn.ReLU(),\n",
        "    nn.Linear(50, 1)\n",
        ")\n",
        "\n",
        "learning_rate = 0.01\n",
        "epochs = 10000\n",
        "\n",
        "optimizer = optim.Adam(model.parameters(), lr=learning_rate)\n",
        "cost = nn.MSELoss()\n",
        "\n",
        "for i in range(epochs + 1):\n",
        "  y = model(x_train)\n",
        "  loss = cost(y, y_train)\n",
        "\n",
        "  optimizer.zero_grad()\n",
        "  loss.backward()\n",
        "  optimizer.step()\n",
        "\n",
        "  if i % 1000 == 0:\n",
        "    output = torch.abs(torch.round(model(x_train)))\n",
        "    print(i, loss.item(), '%.2f%%'%((y_train == output).float().mean().numpy() * 100))"
      ],
      "execution_count": 44,
      "outputs": [
        {
          "output_type": "stream",
          "text": [
            "0 0.41714999079704285 59.38%\n",
            "1000 0.09585504978895187 87.25%\n",
            "2000 0.08263513445854187 89.08%\n",
            "3000 0.07841148972511292 89.50%\n",
            "4000 0.07413792610168457 90.34%\n",
            "5000 0.06868541985750198 90.06%\n",
            "6000 0.09041319787502289 89.08%\n",
            "7000 0.06422396004199982 91.04%\n",
            "8000 0.07793856412172318 90.20%\n",
            "9000 0.06579536199569702 91.18%\n",
            "10000 0.06282727420330048 91.88%\n"
          ],
          "name": "stdout"
        }
      ]
    },
    {
      "cell_type": "code",
      "metadata": {
        "colab": {
          "base_uri": "https://localhost:8080/"
        },
        "id": "tNd6HdppL0ZR",
        "outputId": "d30412a7-1c8a-482a-a69c-55c378c51fc5"
      },
      "source": [
        "test_df = pd.read_csv('test.csv')\n",
        "test_df = test_df[['Pclass', 'Sex', 'Age', 'Fare']].reset_index()\n",
        "test_df.info()"
      ],
      "execution_count": 13,
      "outputs": [
        {
          "output_type": "stream",
          "text": [
            "<class 'pandas.core.frame.DataFrame'>\n",
            "RangeIndex: 418 entries, 0 to 417\n",
            "Data columns (total 5 columns):\n",
            " #   Column  Non-Null Count  Dtype  \n",
            "---  ------  --------------  -----  \n",
            " 0   index   418 non-null    int64  \n",
            " 1   Pclass  418 non-null    int64  \n",
            " 2   Sex     418 non-null    object \n",
            " 3   Age     332 non-null    float64\n",
            " 4   Fare    417 non-null    float64\n",
            "dtypes: float64(2), int64(2), object(1)\n",
            "memory usage: 16.5+ KB\n"
          ],
          "name": "stdout"
        }
      ]
    },
    {
      "cell_type": "code",
      "metadata": {
        "colab": {
          "base_uri": "https://localhost:8080/"
        },
        "id": "IrDGL5aIM87r",
        "outputId": "a58df890-87f3-4aae-cfad-3d9b3a0d80df"
      },
      "source": [
        "test_df['Age'].fillna(test_df['Age'].mean(), inplace=True)\n",
        "test_df['Age'] = round(test_df['Age'] / test_df['Age'].max() , 1)\n",
        "test_df.info()"
      ],
      "execution_count": 16,
      "outputs": [
        {
          "output_type": "stream",
          "text": [
            "<class 'pandas.core.frame.DataFrame'>\n",
            "RangeIndex: 418 entries, 0 to 417\n",
            "Data columns (total 5 columns):\n",
            " #   Column  Non-Null Count  Dtype  \n",
            "---  ------  --------------  -----  \n",
            " 0   index   418 non-null    int64  \n",
            " 1   Pclass  418 non-null    int64  \n",
            " 2   Sex     418 non-null    object \n",
            " 3   Age     418 non-null    float64\n",
            " 4   Fare    417 non-null    float64\n",
            "dtypes: float64(2), int64(2), object(1)\n",
            "memory usage: 16.5+ KB\n"
          ],
          "name": "stdout"
        }
      ]
    },
    {
      "cell_type": "code",
      "metadata": {
        "colab": {
          "base_uri": "https://localhost:8080/",
          "height": 402
        },
        "id": "3kFZG4lUOCcU",
        "outputId": "90e1932e-9c94-462e-99a1-efa92e0f450f"
      },
      "source": [
        "test_df = pd.read_csv('test.csv')\n",
        "test_df = test_df[['Pclass', 'Sex', 'Age', 'Fare']].reset_index()\n",
        "\n",
        "test_df.loc[:,'Sex'] = test_df.loc[:,'Sex'].str.replace('female', '0').replace('male', '1')\n",
        "test_df['Sex'] = test_df['Sex'].astype(int)\n",
        "test_df['Pclass'] = round(test_df['Pclass'] / test_df['Pclass'].max(), 1)\n",
        "test_df['Age'].fillna(test_df['Age'].mean(), inplace=True)\n",
        "test_df['Age'] = round(test_df['Age'] / test_df['Age'].max() , 1)\n",
        "test_df['Fare'].fillna(test_df['Fare'].mean(), inplace=True)\n",
        "test_df['Fare'] = round(test_df['Fare'] / test_df['Fare'].max() , 3)\n",
        "del test_df['index']\n",
        "test_df"
      ],
      "execution_count": 37,
      "outputs": [
        {
          "output_type": "execute_result",
          "data": {
            "text/html": [
              "<div>\n",
              "<style scoped>\n",
              "    .dataframe tbody tr th:only-of-type {\n",
              "        vertical-align: middle;\n",
              "    }\n",
              "\n",
              "    .dataframe tbody tr th {\n",
              "        vertical-align: top;\n",
              "    }\n",
              "\n",
              "    .dataframe thead th {\n",
              "        text-align: right;\n",
              "    }\n",
              "</style>\n",
              "<table border=\"1\" class=\"dataframe\">\n",
              "  <thead>\n",
              "    <tr style=\"text-align: right;\">\n",
              "      <th></th>\n",
              "      <th>Pclass</th>\n",
              "      <th>Sex</th>\n",
              "      <th>Age</th>\n",
              "      <th>Fare</th>\n",
              "    </tr>\n",
              "  </thead>\n",
              "  <tbody>\n",
              "    <tr>\n",
              "      <th>0</th>\n",
              "      <td>1.0</td>\n",
              "      <td>1</td>\n",
              "      <td>0.5</td>\n",
              "      <td>0.015</td>\n",
              "    </tr>\n",
              "    <tr>\n",
              "      <th>1</th>\n",
              "      <td>1.0</td>\n",
              "      <td>0</td>\n",
              "      <td>0.6</td>\n",
              "      <td>0.014</td>\n",
              "    </tr>\n",
              "    <tr>\n",
              "      <th>2</th>\n",
              "      <td>0.7</td>\n",
              "      <td>1</td>\n",
              "      <td>0.8</td>\n",
              "      <td>0.019</td>\n",
              "    </tr>\n",
              "    <tr>\n",
              "      <th>3</th>\n",
              "      <td>1.0</td>\n",
              "      <td>1</td>\n",
              "      <td>0.4</td>\n",
              "      <td>0.017</td>\n",
              "    </tr>\n",
              "    <tr>\n",
              "      <th>4</th>\n",
              "      <td>1.0</td>\n",
              "      <td>0</td>\n",
              "      <td>0.3</td>\n",
              "      <td>0.024</td>\n",
              "    </tr>\n",
              "    <tr>\n",
              "      <th>...</th>\n",
              "      <td>...</td>\n",
              "      <td>...</td>\n",
              "      <td>...</td>\n",
              "      <td>...</td>\n",
              "    </tr>\n",
              "    <tr>\n",
              "      <th>413</th>\n",
              "      <td>1.0</td>\n",
              "      <td>1</td>\n",
              "      <td>0.4</td>\n",
              "      <td>0.016</td>\n",
              "    </tr>\n",
              "    <tr>\n",
              "      <th>414</th>\n",
              "      <td>0.3</td>\n",
              "      <td>0</td>\n",
              "      <td>0.5</td>\n",
              "      <td>0.213</td>\n",
              "    </tr>\n",
              "    <tr>\n",
              "      <th>415</th>\n",
              "      <td>1.0</td>\n",
              "      <td>1</td>\n",
              "      <td>0.5</td>\n",
              "      <td>0.014</td>\n",
              "    </tr>\n",
              "    <tr>\n",
              "      <th>416</th>\n",
              "      <td>1.0</td>\n",
              "      <td>1</td>\n",
              "      <td>0.4</td>\n",
              "      <td>0.016</td>\n",
              "    </tr>\n",
              "    <tr>\n",
              "      <th>417</th>\n",
              "      <td>1.0</td>\n",
              "      <td>1</td>\n",
              "      <td>0.4</td>\n",
              "      <td>0.044</td>\n",
              "    </tr>\n",
              "  </tbody>\n",
              "</table>\n",
              "<p>418 rows × 4 columns</p>\n",
              "</div>"
            ],
            "text/plain": [
              "     Pclass  Sex  Age   Fare\n",
              "0       1.0    1  0.5  0.015\n",
              "1       1.0    0  0.6  0.014\n",
              "2       0.7    1  0.8  0.019\n",
              "3       1.0    1  0.4  0.017\n",
              "4       1.0    0  0.3  0.024\n",
              "..      ...  ...  ...    ...\n",
              "413     1.0    1  0.4  0.016\n",
              "414     0.3    0  0.5  0.213\n",
              "415     1.0    1  0.5  0.014\n",
              "416     1.0    1  0.4  0.016\n",
              "417     1.0    1  0.4  0.044\n",
              "\n",
              "[418 rows x 4 columns]"
            ]
          },
          "metadata": {
            "tags": []
          },
          "execution_count": 37
        }
      ]
    },
    {
      "cell_type": "code",
      "metadata": {
        "id": "Ql3TR_xn-bXX"
      },
      "source": [
        "test_df = pd.read_csv('test.csv')\n",
        "test_df = test_df[['Pclass', 'Sex', 'Age', 'Fare']].reset_index()\n",
        "\n",
        "test_df.loc[:,'Sex'] = test_df.loc[:,'Sex'].str.replace('female', '0').replace('male', '1')\n",
        "test_df['Sex'] = test_df['Sex'].astype(int)\n",
        "test_df['Pclass'] = round(test_df['Pclass'] / test_df['Pclass'].max(), 1)\n",
        "test_df['Age'].fillna(test_df['Age'].mean(), inplace=True)\n",
        "test_df['Age'] = round(test_df['Age'] / test_df['Age'].max() , 1)\n",
        "test_df['Fare'].fillna(test_df['Fare'].mean(), inplace=True)\n",
        "test_df['Fare'] = round(test_df['Fare'] / test_df['Fare'].max() , 3)\n",
        "del test_df['index']\n",
        "\n",
        "x_test = torch.FloatTensor(test_df[['Pclass', 'Sex', 'Age', 'Fare']].values)"
      ],
      "execution_count": 45,
      "outputs": []
    },
    {
      "cell_type": "code",
      "metadata": {
        "colab": {
          "base_uri": "https://localhost:8080/",
          "height": 402
        },
        "id": "8z81khOhPSfW",
        "outputId": "364beb66-2b72-4f56-86d2-714c09309f2b"
      },
      "source": [
        "submit_df = pd.read_csv('gender_submission.csv')\n",
        "submit_df['Survived'] = model(x_test).round().int().numpy()\n",
        "submit_df"
      ],
      "execution_count": 46,
      "outputs": [
        {
          "output_type": "execute_result",
          "data": {
            "text/html": [
              "<div>\n",
              "<style scoped>\n",
              "    .dataframe tbody tr th:only-of-type {\n",
              "        vertical-align: middle;\n",
              "    }\n",
              "\n",
              "    .dataframe tbody tr th {\n",
              "        vertical-align: top;\n",
              "    }\n",
              "\n",
              "    .dataframe thead th {\n",
              "        text-align: right;\n",
              "    }\n",
              "</style>\n",
              "<table border=\"1\" class=\"dataframe\">\n",
              "  <thead>\n",
              "    <tr style=\"text-align: right;\">\n",
              "      <th></th>\n",
              "      <th>PassengerId</th>\n",
              "      <th>Survived</th>\n",
              "    </tr>\n",
              "  </thead>\n",
              "  <tbody>\n",
              "    <tr>\n",
              "      <th>0</th>\n",
              "      <td>892</td>\n",
              "      <td>0</td>\n",
              "    </tr>\n",
              "    <tr>\n",
              "      <th>1</th>\n",
              "      <td>893</td>\n",
              "      <td>0</td>\n",
              "    </tr>\n",
              "    <tr>\n",
              "      <th>2</th>\n",
              "      <td>894</td>\n",
              "      <td>1</td>\n",
              "    </tr>\n",
              "    <tr>\n",
              "      <th>3</th>\n",
              "      <td>895</td>\n",
              "      <td>0</td>\n",
              "    </tr>\n",
              "    <tr>\n",
              "      <th>4</th>\n",
              "      <td>896</td>\n",
              "      <td>1</td>\n",
              "    </tr>\n",
              "    <tr>\n",
              "      <th>...</th>\n",
              "      <td>...</td>\n",
              "      <td>...</td>\n",
              "    </tr>\n",
              "    <tr>\n",
              "      <th>413</th>\n",
              "      <td>1305</td>\n",
              "      <td>0</td>\n",
              "    </tr>\n",
              "    <tr>\n",
              "      <th>414</th>\n",
              "      <td>1306</td>\n",
              "      <td>1</td>\n",
              "    </tr>\n",
              "    <tr>\n",
              "      <th>415</th>\n",
              "      <td>1307</td>\n",
              "      <td>0</td>\n",
              "    </tr>\n",
              "    <tr>\n",
              "      <th>416</th>\n",
              "      <td>1308</td>\n",
              "      <td>0</td>\n",
              "    </tr>\n",
              "    <tr>\n",
              "      <th>417</th>\n",
              "      <td>1309</td>\n",
              "      <td>0</td>\n",
              "    </tr>\n",
              "  </tbody>\n",
              "</table>\n",
              "<p>418 rows × 2 columns</p>\n",
              "</div>"
            ],
            "text/plain": [
              "     PassengerId  Survived\n",
              "0            892         0\n",
              "1            893         0\n",
              "2            894         1\n",
              "3            895         0\n",
              "4            896         1\n",
              "..           ...       ...\n",
              "413         1305         0\n",
              "414         1306         1\n",
              "415         1307         0\n",
              "416         1308         0\n",
              "417         1309         0\n",
              "\n",
              "[418 rows x 2 columns]"
            ]
          },
          "metadata": {
            "tags": []
          },
          "execution_count": 46
        }
      ]
    },
    {
      "cell_type": "code",
      "metadata": {
        "id": "MQN4iwZrQSxf"
      },
      "source": [
        "submit_df.to_csv('submission.csv', index=False)"
      ],
      "execution_count": 48,
      "outputs": []
    },
    {
      "cell_type": "code",
      "metadata": {
        "colab": {
          "base_uri": "https://localhost:8080/"
        },
        "id": "Q7YnWaoHQpgU",
        "outputId": "faf13261-6b8e-443c-e384-9b42d6e7e47a"
      },
      "source": [
        "!kaggle competitions submit -c titanic -f submission.csv -m \"Message\""
      ],
      "execution_count": 49,
      "outputs": [
        {
          "output_type": "stream",
          "text": [
            "Warning: Looks like you're using an outdated API Version, please consider updating (server 1.5.12 / client 1.5.4)\n",
            "100% 2.77k/2.77k [00:00<00:00, 5.02kB/s]\n",
            "Successfully submitted to Titanic - Machine Learning from Disaster"
          ],
          "name": "stdout"
        }
      ]
    },
    {
      "cell_type": "code",
      "metadata": {
        "colab": {
          "base_uri": "https://localhost:8080/",
          "height": 402
        },
        "id": "RpGrF2hDNYzE",
        "outputId": "282527b1-96a2-4ee0-a1d7-7fb0cbb420ce"
      },
      "source": [
        "test_df = pd.read_csv('test.csv')\n",
        "test_df2 = test_df[['Name', 'Age']].reset_index()\n",
        "test_df2[test_df2['Name'].str.contains('Mr\\.')]"
      ],
      "execution_count": 10,
      "outputs": [
        {
          "output_type": "execute_result",
          "data": {
            "text/html": [
              "<div>\n",
              "<style scoped>\n",
              "    .dataframe tbody tr th:only-of-type {\n",
              "        vertical-align: middle;\n",
              "    }\n",
              "\n",
              "    .dataframe tbody tr th {\n",
              "        vertical-align: top;\n",
              "    }\n",
              "\n",
              "    .dataframe thead th {\n",
              "        text-align: right;\n",
              "    }\n",
              "</style>\n",
              "<table border=\"1\" class=\"dataframe\">\n",
              "  <thead>\n",
              "    <tr style=\"text-align: right;\">\n",
              "      <th></th>\n",
              "      <th>index</th>\n",
              "      <th>Name</th>\n",
              "      <th>Age</th>\n",
              "    </tr>\n",
              "  </thead>\n",
              "  <tbody>\n",
              "    <tr>\n",
              "      <th>0</th>\n",
              "      <td>0</td>\n",
              "      <td>Kelly, Mr. James</td>\n",
              "      <td>34.5</td>\n",
              "    </tr>\n",
              "    <tr>\n",
              "      <th>2</th>\n",
              "      <td>2</td>\n",
              "      <td>Myles, Mr. Thomas Francis</td>\n",
              "      <td>62.0</td>\n",
              "    </tr>\n",
              "    <tr>\n",
              "      <th>3</th>\n",
              "      <td>3</td>\n",
              "      <td>Wirz, Mr. Albert</td>\n",
              "      <td>27.0</td>\n",
              "    </tr>\n",
              "    <tr>\n",
              "      <th>5</th>\n",
              "      <td>5</td>\n",
              "      <td>Svensson, Mr. Johan Cervin</td>\n",
              "      <td>14.0</td>\n",
              "    </tr>\n",
              "    <tr>\n",
              "      <th>7</th>\n",
              "      <td>7</td>\n",
              "      <td>Caldwell, Mr. Albert Francis</td>\n",
              "      <td>26.0</td>\n",
              "    </tr>\n",
              "    <tr>\n",
              "      <th>...</th>\n",
              "      <td>...</td>\n",
              "      <td>...</td>\n",
              "      <td>...</td>\n",
              "    </tr>\n",
              "    <tr>\n",
              "      <th>406</th>\n",
              "      <td>406</td>\n",
              "      <td>Ware, Mr. William Jeffery</td>\n",
              "      <td>23.0</td>\n",
              "    </tr>\n",
              "    <tr>\n",
              "      <th>407</th>\n",
              "      <td>407</td>\n",
              "      <td>Widener, Mr. George Dunton</td>\n",
              "      <td>50.0</td>\n",
              "    </tr>\n",
              "    <tr>\n",
              "      <th>413</th>\n",
              "      <td>413</td>\n",
              "      <td>Spector, Mr. Woolf</td>\n",
              "      <td>NaN</td>\n",
              "    </tr>\n",
              "    <tr>\n",
              "      <th>415</th>\n",
              "      <td>415</td>\n",
              "      <td>Saether, Mr. Simon Sivertsen</td>\n",
              "      <td>38.5</td>\n",
              "    </tr>\n",
              "    <tr>\n",
              "      <th>416</th>\n",
              "      <td>416</td>\n",
              "      <td>Ware, Mr. Frederick</td>\n",
              "      <td>NaN</td>\n",
              "    </tr>\n",
              "  </tbody>\n",
              "</table>\n",
              "<p>240 rows × 3 columns</p>\n",
              "</div>"
            ],
            "text/plain": [
              "     index                          Name   Age\n",
              "0        0              Kelly, Mr. James  34.5\n",
              "2        2     Myles, Mr. Thomas Francis  62.0\n",
              "3        3              Wirz, Mr. Albert  27.0\n",
              "5        5    Svensson, Mr. Johan Cervin  14.0\n",
              "7        7  Caldwell, Mr. Albert Francis  26.0\n",
              "..     ...                           ...   ...\n",
              "406    406     Ware, Mr. William Jeffery  23.0\n",
              "407    407    Widener, Mr. George Dunton  50.0\n",
              "413    413            Spector, Mr. Woolf   NaN\n",
              "415    415  Saether, Mr. Simon Sivertsen  38.5\n",
              "416    416           Ware, Mr. Frederick   NaN\n",
              "\n",
              "[240 rows x 3 columns]"
            ]
          },
          "metadata": {
            "tags": []
          },
          "execution_count": 10
        }
      ]
    }
  ]
}