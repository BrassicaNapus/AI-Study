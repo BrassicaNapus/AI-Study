{
  "nbformat": 4,
  "nbformat_minor": 0,
  "metadata": {
    "colab": {
      "name": "10-2주차.ipynb",
      "provenance": [],
      "authorship_tag": "ABX9TyNP7zmR0j5FUWH6tMtcC+PN",
      "include_colab_link": true
    },
    "kernelspec": {
      "name": "python3",
      "display_name": "Python 3"
    },
    "language_info": {
      "name": "python"
    }
  },
  "cells": [
    {
      "cell_type": "markdown",
      "metadata": {
        "id": "view-in-github",
        "colab_type": "text"
      },
      "source": [
        "<a href=\"https://colab.research.google.com/github/yujungha/AI-Study/blob/main/10_2%EC%A3%BC%EC%B0%A8.ipynb\" target=\"_parent\"><img src=\"https://colab.research.google.com/assets/colab-badge.svg\" alt=\"Open In Colab\"/></a>"
      ]
    },
    {
      "cell_type": "code",
      "metadata": {
        "id": "F65_SWF_6TMN"
      },
      "source": [
        "!mkdir -p ~/.kaggle\n",
        "!cp kaggle.json ~/.kaggle/\n",
        "!chmod 600 ~/.kaggle/kaggle.json"
      ],
      "execution_count": 138,
      "outputs": []
    },
    {
      "cell_type": "code",
      "metadata": {
        "colab": {
          "base_uri": "https://localhost:8080/"
        },
        "id": "7qmcW7Qw85dx",
        "outputId": "4c809e6d-8efc-4932-f3bf-97e10b2ac2a1"
      },
      "source": [
        "!kaggle competitions download -c titanic"
      ],
      "execution_count": 139,
      "outputs": [
        {
          "output_type": "stream",
          "text": [
            "Warning: Looks like you're using an outdated API Version, please consider updating (server 1.5.12 / client 1.5.4)\n",
            "gender_submission.csv: Skipping, found more recently modified local copy (use --force to force download)\n",
            "test.csv: Skipping, found more recently modified local copy (use --force to force download)\n",
            "train.csv: Skipping, found more recently modified local copy (use --force to force download)\n"
          ],
          "name": "stdout"
        }
      ]
    },
    {
      "cell_type": "code",
      "metadata": {
        "id": "ZEyBA_rB4mci"
      },
      "source": [
        "import numpy as np\n",
        "import pandas as pd\n",
        "import matplotlib.pyplot as plt\n",
        "import torch\n",
        "import torch.optim as optim\n",
        "import torch.nn as nn"
      ],
      "execution_count": 140,
      "outputs": []
    },
    {
      "cell_type": "code",
      "metadata": {
        "colab": {
          "base_uri": "https://localhost:8080/"
        },
        "id": "-tBZEy8g4mey",
        "outputId": "64f779ae-0277-4cba-aee7-4eb910300058"
      },
      "source": [
        "df = pd.read_csv('train.csv')\n",
        "df2 = df[['Survived', 'Pclass', 'Sex', 'Age', 'Fare']].reset_index()\n",
        "\n",
        "df2.loc[:,'Sex'] = df2.loc[:,'Sex'].str.replace('female', '0')\n",
        "df2.loc[:,'Sex'] = df2.loc[:,'Sex'].str.replace('male', '1')\n",
        "df2['Sex'] = df2['Sex'].astype(int)\n",
        "df2['Pclass'] = round(df2['Pclass'] / 3, 1)\n",
        "df2['Age'] = round(df2['Age'] / 80 , 1)\n",
        "df2 = df2.dropna(subset=['Age'])\n",
        "df2['Fare'] = round(df2['Fare'] / df2['Fare'].max() , 3)\n",
        "df3 = df2['Survived'].values\n",
        "df3 = df3.reshape(-1, 1)\n",
        "del df2['index']\n",
        "del df2['Survived']\n",
        "\n",
        "x_train = torch.FloatTensor(df2.values)\n",
        "y_train = torch.FloatTensor(df3)\n",
        "\n",
        "model = nn.Sequential(\n",
        "    nn.Linear(4, 50),\n",
        "    nn.ReLU(),\n",
        "    nn.Linear(50, 50),\n",
        "    nn.ReLU(),\n",
        "    nn.Linear(50, 50),\n",
        "    nn.ReLU(),\n",
        "    nn.Linear(50, 50),\n",
        "    nn.ReLU(),\n",
        "    nn.Linear(50, 50),\n",
        "    nn.ReLU(),\n",
        "    nn.Linear(50, 1)\n",
        ")\n",
        "\n",
        "learning_rate = 0.01\n",
        "epochs = 10000\n",
        "\n",
        "optimizer = optim.Adam(model.parameters(), lr=learning_rate)\n",
        "cost = nn.MSELoss()\n",
        "\n",
        "for i in range(epochs + 1):\n",
        "  y = model(x_train)\n",
        "  loss = cost(y, y_train)\n",
        "\n",
        "  optimizer.zero_grad()\n",
        "  loss.backward()\n",
        "  optimizer.step()\n",
        "\n",
        "  if i % 1000 == 0:\n",
        "    output = torch.abs(torch.round(model(x_train)))\n",
        "    print(i, loss.item(), '%.2f%%'%((y_train == output).float().mean().numpy() * 100))"
      ],
      "execution_count": 141,
      "outputs": [
        {
          "output_type": "stream",
          "text": [
            "0 0.419853538274765 59.38%\n",
            "1000 0.09310165047645569 87.25%\n",
            "2000 0.09279683977365494 87.54%\n",
            "3000 0.07627182453870773 88.94%\n",
            "4000 0.06865232437849045 91.04%\n",
            "5000 0.06773509085178375 90.76%\n",
            "6000 0.07147190719842911 90.06%\n",
            "7000 0.0633544996380806 91.32%\n",
            "8000 0.062044043093919754 91.74%\n",
            "9000 0.0627489984035492 91.18%\n",
            "10000 0.07121502608060837 91.18%\n"
          ],
          "name": "stdout"
        }
      ]
    },
    {
      "cell_type": "code",
      "metadata": {
        "colab": {
          "base_uri": "https://localhost:8080/"
        },
        "id": "2uvqHjGaxSZR",
        "outputId": "fd1f14c9-6926-491e-9467-7418fd3268ad"
      },
      "source": [
        "test_df.info()"
      ],
      "execution_count": 74,
      "outputs": [
        {
          "output_type": "stream",
          "text": [
            "<class 'pandas.core.frame.DataFrame'>\n",
            "RangeIndex: 418 entries, 0 to 417\n",
            "Data columns (total 11 columns):\n",
            " #   Column       Non-Null Count  Dtype  \n",
            "---  ------       --------------  -----  \n",
            " 0   PassengerId  418 non-null    int64  \n",
            " 1   Pclass       418 non-null    int64  \n",
            " 2   Name         418 non-null    object \n",
            " 3   Sex          418 non-null    object \n",
            " 4   Age          332 non-null    float64\n",
            " 5   SibSp        418 non-null    int64  \n",
            " 6   Parch        418 non-null    int64  \n",
            " 7   Ticket       418 non-null    object \n",
            " 8   Fare         417 non-null    float64\n",
            " 9   Cabin        91 non-null     object \n",
            " 10  Embarked     418 non-null    object \n",
            "dtypes: float64(2), int64(4), object(5)\n",
            "memory usage: 36.0+ KB\n"
          ],
          "name": "stdout"
        }
      ]
    },
    {
      "cell_type": "code",
      "metadata": {
        "colab": {
          "base_uri": "https://localhost:8080/",
          "height": 77
        },
        "id": "VTG7UEU23IRf",
        "outputId": "2c83ac34-9c3b-4bd4-bb5a-35952779a9af"
      },
      "source": [
        "test_df2[test_df2['Name'].str.contains('Ms')]"
      ],
      "execution_count": 65,
      "outputs": [
        {
          "output_type": "execute_result",
          "data": {
            "text/html": [
              "<div>\n",
              "<style scoped>\n",
              "    .dataframe tbody tr th:only-of-type {\n",
              "        vertical-align: middle;\n",
              "    }\n",
              "\n",
              "    .dataframe tbody tr th {\n",
              "        vertical-align: top;\n",
              "    }\n",
              "\n",
              "    .dataframe thead th {\n",
              "        text-align: right;\n",
              "    }\n",
              "</style>\n",
              "<table border=\"1\" class=\"dataframe\">\n",
              "  <thead>\n",
              "    <tr style=\"text-align: right;\">\n",
              "      <th></th>\n",
              "      <th>index</th>\n",
              "      <th>Name</th>\n",
              "      <th>Age</th>\n",
              "    </tr>\n",
              "  </thead>\n",
              "  <tbody>\n",
              "    <tr>\n",
              "      <th>88</th>\n",
              "      <td>88</td>\n",
              "      <td>O'Donoghue, Ms. Bridget</td>\n",
              "      <td>NaN</td>\n",
              "    </tr>\n",
              "  </tbody>\n",
              "</table>\n",
              "</div>"
            ],
            "text/plain": [
              "    index                     Name  Age\n",
              "88     88  O'Donoghue, Ms. Bridget  NaN"
            ]
          },
          "metadata": {
            "tags": []
          },
          "execution_count": 65
        }
      ]
    },
    {
      "cell_type": "code",
      "metadata": {
        "id": "FJsyw7dMWOT1"
      },
      "source": [
        "test_df = pd.read_csv('test.csv')\n",
        "\n",
        "# test_df2 = test_df[['Name', 'Age']].reset_index()\n",
        "Mr_mean = test_df[test_df['Name'].str.contains('Mr\\.')]['Age'].mean()\n",
        "test_df[test_df['Name'].str.contains('Mr\\.')] = test_df[test_df['Name'].str.contains('Mr\\.')].fillna(Mr_mean) #  Mr 나이의 평균으로 결측값 채우기\n",
        "Mrs_mean = test_df[test_df['Name'].str.contains('Mrs\\.')]['Age'].mean()\n",
        "test_df[test_df['Name'].str.contains('Mrs\\.')] = test_df[test_df['Name'].str.contains('Mrs\\.')].fillna(Mrs_mean) #  Mrs 나이의 평균으로 결측값 채우기\n",
        "Master_mean = test_df[test_df['Name'].str.contains('Master')]['Age'].mean()\n",
        "test_df[test_df2['Name'].str.contains('Master')] = test_df[test_df['Name'].str.contains('Master')].fillna(Master_mean) #  Master 나이의 평균으로 결측값 채우기\n",
        "Miss_mean = test_df[test_df['Name'].str.contains('Miss')]['Age'].mean()\n",
        "test_df[test_df['Name'].str.contains('Miss')] = test_df[test_df['Name'].str.contains('Miss')].fillna(Miss_mean) #  Miss 나이의 평균으로 결측값 채우기\n",
        "# Ms_mean = test_df2[test_df2['Name'].str.contains('Ms')]['Age'].mean()\n",
        "test_df[test_df['Name'].str.contains('Ms')] = test_df[test_df['Name'].str.contains('Ms')].fillna(Miss_mean) #  Ms 나이의 평균으로 결측값 채우기\n",
        "\n",
        "test_df = test_df[['Pclass', 'Sex', 'Age', 'Fare']].reset_index()\n",
        "\n",
        "test_df.loc[:,'Sex'] = test_df.loc[:,'Sex'].str.replace('female', '0').replace('male', '1')\n",
        "test_df['Sex'] = test_df['Sex'].astype(np.int32)\n",
        "test_df['Pclass'] = round(test_df['Pclass'] / test_df['Pclass'].max(), 1)\n",
        "test_df['Age'] = round(test_df['Age'] / test_df['Age'].max() , 1)\n",
        "test_df['Fare'].fillna(test_df['Fare'].mean(), inplace=True)\n",
        "test_df['Fare'] = round(test_df['Fare'] / test_df['Fare'].max() , 3)\n",
        "del test_df['index']\n",
        "\n",
        "x_test = torch.FloatTensor(test_df[['Pclass', 'Sex', 'Age', 'Fare']].values)"
      ],
      "execution_count": 142,
      "outputs": []
    },
    {
      "cell_type": "code",
      "metadata": {
        "colab": {
          "base_uri": "https://localhost:8080/",
          "height": 402
        },
        "id": "upfEiXE2FR1q",
        "outputId": "e14a1d09-a68e-4957-9123-8ed9a9109386"
      },
      "source": [
        "submit_df = pd.read_csv('gender_submission.csv')\n",
        "submit_df['Survived'] = model(x_test).round().int().numpy()\n",
        "submit_df"
      ],
      "execution_count": 143,
      "outputs": [
        {
          "output_type": "execute_result",
          "data": {
            "text/html": [
              "<div>\n",
              "<style scoped>\n",
              "    .dataframe tbody tr th:only-of-type {\n",
              "        vertical-align: middle;\n",
              "    }\n",
              "\n",
              "    .dataframe tbody tr th {\n",
              "        vertical-align: top;\n",
              "    }\n",
              "\n",
              "    .dataframe thead th {\n",
              "        text-align: right;\n",
              "    }\n",
              "</style>\n",
              "<table border=\"1\" class=\"dataframe\">\n",
              "  <thead>\n",
              "    <tr style=\"text-align: right;\">\n",
              "      <th></th>\n",
              "      <th>PassengerId</th>\n",
              "      <th>Survived</th>\n",
              "    </tr>\n",
              "  </thead>\n",
              "  <tbody>\n",
              "    <tr>\n",
              "      <th>0</th>\n",
              "      <td>892</td>\n",
              "      <td>0</td>\n",
              "    </tr>\n",
              "    <tr>\n",
              "      <th>1</th>\n",
              "      <td>893</td>\n",
              "      <td>0</td>\n",
              "    </tr>\n",
              "    <tr>\n",
              "      <th>2</th>\n",
              "      <td>894</td>\n",
              "      <td>0</td>\n",
              "    </tr>\n",
              "    <tr>\n",
              "      <th>3</th>\n",
              "      <td>895</td>\n",
              "      <td>0</td>\n",
              "    </tr>\n",
              "    <tr>\n",
              "      <th>4</th>\n",
              "      <td>896</td>\n",
              "      <td>1</td>\n",
              "    </tr>\n",
              "    <tr>\n",
              "      <th>...</th>\n",
              "      <td>...</td>\n",
              "      <td>...</td>\n",
              "    </tr>\n",
              "    <tr>\n",
              "      <th>413</th>\n",
              "      <td>1305</td>\n",
              "      <td>0</td>\n",
              "    </tr>\n",
              "    <tr>\n",
              "      <th>414</th>\n",
              "      <td>1306</td>\n",
              "      <td>1</td>\n",
              "    </tr>\n",
              "    <tr>\n",
              "      <th>415</th>\n",
              "      <td>1307</td>\n",
              "      <td>0</td>\n",
              "    </tr>\n",
              "    <tr>\n",
              "      <th>416</th>\n",
              "      <td>1308</td>\n",
              "      <td>0</td>\n",
              "    </tr>\n",
              "    <tr>\n",
              "      <th>417</th>\n",
              "      <td>1309</td>\n",
              "      <td>0</td>\n",
              "    </tr>\n",
              "  </tbody>\n",
              "</table>\n",
              "<p>418 rows × 2 columns</p>\n",
              "</div>"
            ],
            "text/plain": [
              "     PassengerId  Survived\n",
              "0            892         0\n",
              "1            893         0\n",
              "2            894         0\n",
              "3            895         0\n",
              "4            896         1\n",
              "..           ...       ...\n",
              "413         1305         0\n",
              "414         1306         1\n",
              "415         1307         0\n",
              "416         1308         0\n",
              "417         1309         0\n",
              "\n",
              "[418 rows x 2 columns]"
            ]
          },
          "metadata": {
            "tags": []
          },
          "execution_count": 143
        }
      ]
    },
    {
      "cell_type": "code",
      "metadata": {
        "id": "0DiQ4oAJFX9b"
      },
      "source": [
        "submit_df.to_csv('submission.csv', index=False)"
      ],
      "execution_count": 144,
      "outputs": []
    },
    {
      "cell_type": "code",
      "metadata": {
        "colab": {
          "base_uri": "https://localhost:8080/"
        },
        "id": "BVqF-ht8FX_W",
        "outputId": "c98b5706-e014-43df-eaa5-6ff4b5bc0e30"
      },
      "source": [
        "!kaggle competitions submit -c titanic -f submission.csv -m \"Message\""
      ],
      "execution_count": 145,
      "outputs": [
        {
          "output_type": "stream",
          "text": [
            "Warning: Looks like you're using an outdated API Version, please consider updating (server 1.5.12 / client 1.5.4)\n",
            "\r  0% 0.00/2.77k [00:00<?, ?B/s]\r100% 2.77k/2.77k [00:00<00:00, 13.2kB/s]\n",
            "Successfully submitted to Titanic - Machine Learning from Disaster"
          ],
          "name": "stdout"
        }
      ]
    }
  ]
}