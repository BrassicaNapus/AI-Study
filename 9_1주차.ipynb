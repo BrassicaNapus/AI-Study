{
  "nbformat": 4,
  "nbformat_minor": 0,
  "metadata": {
    "colab": {
      "name": "9-1주차.ipynb",
      "provenance": [],
      "authorship_tag": "ABX9TyOzlaefTRmQpo1+C89O/R5W",
      "include_colab_link": true
    },
    "kernelspec": {
      "name": "python3",
      "display_name": "Python 3"
    },
    "language_info": {
      "name": "python"
    }
  },
  "cells": [
    {
      "cell_type": "markdown",
      "metadata": {
        "id": "view-in-github",
        "colab_type": "text"
      },
      "source": [
        "<a href=\"https://colab.research.google.com/github/yujungha/AI-Study/blob/main/9_1%EC%A3%BC%EC%B0%A8.ipynb\" target=\"_parent\"><img src=\"https://colab.research.google.com/assets/colab-badge.svg\" alt=\"Open In Colab\"/></a>"
      ]
    },
    {
      "cell_type": "code",
      "metadata": {
        "id": "n5RyKnXp_P0i"
      },
      "source": [
        "import numpy as np\n",
        "import pandas as pd\n",
        "import matplotlib.pyplot as plt\n",
        "import torch\n",
        "import torch.optim as optim\n",
        "import torch.nn as nn"
      ],
      "execution_count": 1,
      "outputs": []
    },
    {
      "cell_type": "code",
      "metadata": {
        "colab": {
          "base_uri": "https://localhost:8080/"
        },
        "id": "TfPf_2Ei_YEu",
        "outputId": "5d399787-66d5-4870-b6fa-6533d4939628"
      },
      "source": [
        "x_train = torch.FloatTensor([[0, 0],\n",
        "                             [0, 1],\n",
        "                             [1, 0],\n",
        "                             [1, 1]])\n",
        "y_train = torch.FloatTensor([[0],\n",
        "                             [1],\n",
        "                             [1],\n",
        "                             [0]])\n",
        "\n",
        "model = nn.Sequential(\n",
        "    nn.Linear(2, 10),\n",
        "    nn.ReLU(),\n",
        "    nn.Linear(10, 10),\n",
        "    nn.ReLU(),\n",
        "    nn.Linear(10, 10),\n",
        "    nn.ReLU(),\n",
        "    nn.Linear(10, 10),\n",
        "    nn.ReLU(),\n",
        "    nn.Linear(10, 1)\n",
        ")\n",
        "\n",
        "learning_rate = 0.05\n",
        "epochs = 5000\n",
        "\n",
        "optimizer = optim.SGD(model.parameters(), lr=learning_rate)\n",
        "cost = nn.MSELoss()\n",
        "\n",
        "for i in range(epochs + 1):\n",
        "  y = model(x_train)\n",
        "  loss = cost(y, y_train)\n",
        "\n",
        "  optimizer.zero_grad()\n",
        "  loss.backward()\n",
        "  optimizer.step()\n",
        "\n",
        "  if i % 100 == 0:\n",
        "    print(i, loss.item())\n",
        "\n",
        "print(model(x_train))"
      ],
      "execution_count": 5,
      "outputs": [
        {
          "output_type": "stream",
          "text": [
            "0 0.320865273475647\n",
            "100 0.2482515424489975\n",
            "200 0.24697093665599823\n",
            "300 0.24479961395263672\n",
            "400 0.2396543323993683\n",
            "500 0.2169974446296692\n",
            "600 0.04783952981233597\n",
            "700 2.61727063843864e-06\n",
            "800 2.3797586123919245e-10\n",
            "900 3.97237798210881e-13\n",
            "1000 1.1657341758564144e-13\n",
            "1100 5.706546346573305e-14\n",
            "1200 3.5083047578154947e-14\n",
            "1300 1.887379141862766e-14\n",
            "1400 1.7985612998927536e-14\n",
            "1500 2.1538326677728037e-14\n",
            "1600 7.327471962526033e-15\n",
            "1700 6.217248937900877e-15\n",
            "1800 6.439293542825908e-15\n",
            "1900 3.9968028886505635e-15\n",
            "2000 4.6629367034256575e-15\n",
            "2100 3.774758283725532e-15\n",
            "2200 4.6629367034256575e-15\n",
            "2300 3.1086244689504383e-15\n",
            "2400 3.774758283725532e-15\n",
            "2500 3.774758283725532e-15\n",
            "2600 1.9984014443252818e-15\n",
            "2700 1.9984014443252818e-15\n",
            "2800 6.439293542825908e-15\n",
            "2900 5.551115123125783e-15\n",
            "3000 4.6629367034256575e-15\n",
            "3100 3.1086244689504383e-15\n",
            "3200 1.1102230246251565e-15\n",
            "3300 2.6645352591003757e-15\n",
            "3400 8.881784197001252e-16\n",
            "3500 1.7763568394002505e-15\n",
            "3600 8.881784197001252e-16\n",
            "3700 8.881784197001252e-16\n",
            "3800 8.881784197001252e-16\n",
            "3900 1.7763568394002505e-15\n",
            "4000 1.7763568394002505e-15\n",
            "4100 1.7763568394002505e-15\n",
            "4200 1.7763568394002505e-15\n",
            "4300 1.7763568394002505e-15\n",
            "4400 1.7763568394002505e-15\n",
            "4500 1.7763568394002505e-15\n",
            "4600 1.7763568394002505e-15\n",
            "4700 1.7763568394002505e-15\n",
            "4800 1.7763568394002505e-15\n",
            "4900 1.7763568394002505e-15\n",
            "5000 1.7763568394002505e-15\n",
            "tensor([[5.9605e-08],\n",
            "        [1.0000e+00],\n",
            "        [1.0000e+00],\n",
            "        [0.0000e+00]], grad_fn=<AddmmBackward>)\n"
          ],
          "name": "stdout"
        }
      ]
    }
  ]
}