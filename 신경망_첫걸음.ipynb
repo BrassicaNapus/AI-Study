{
  "nbformat": 4,
  "nbformat_minor": 0,
  "metadata": {
    "colab": {
      "name": "신경망 첫걸음",
      "provenance": [],
      "authorship_tag": "ABX9TyOVzsdt+fsSESuntJ4HMNc7",
      "include_colab_link": true
    },
    "kernelspec": {
      "name": "python3",
      "display_name": "Python 3"
    }
  },
  "cells": [
    {
      "cell_type": "markdown",
      "metadata": {
        "id": "view-in-github",
        "colab_type": "text"
      },
      "source": [
        "<a href=\"https://colab.research.google.com/github/yujungha/AI-Study/blob/main/%EC%8B%A0%EA%B2%BD%EB%A7%9D_%EC%B2%AB%EA%B1%B8%EC%9D%8C.ipynb\" target=\"_parent\"><img src=\"https://colab.research.google.com/assets/colab-badge.svg\" alt=\"Open In Colab\"/></a>"
      ]
    },
    {
      "cell_type": "code",
      "metadata": {
        "colab": {
          "base_uri": "https://localhost:8080/"
        },
        "id": "XWEh1-6GdsR7",
        "outputId": "d7afb417-b96f-4efd-adbb-792d6161ebaf"
      },
      "source": [
        "2 * 3"
      ],
      "execution_count": null,
      "outputs": [
        {
          "output_type": "execute_result",
          "data": {
            "text/plain": [
              "6"
            ]
          },
          "metadata": {
            "tags": []
          },
          "execution_count": 1
        }
      ]
    },
    {
      "cell_type": "code",
      "metadata": {
        "colab": {
          "base_uri": "https://localhost:8080/"
        },
        "id": "P57kQryfdxHm",
        "outputId": "04d8a902-bf2d-4efb-e762-37f59faf4396"
      },
      "source": [
        "print(\"Hello World!\")"
      ],
      "execution_count": null,
      "outputs": [
        {
          "output_type": "stream",
          "text": [
            "Hello World!\n"
          ],
          "name": "stdout"
        }
      ]
    },
    {
      "cell_type": "code",
      "metadata": {
        "colab": {
          "base_uri": "https://localhost:8080/"
        },
        "id": "2NrPPMTheBU8",
        "outputId": "e30c79f8-3829-4ca0-dd1b-7bb5153a1880"
      },
      "source": [
        "x = 10\r\n",
        "print(x)\r\n",
        "print(x + 5)\r\n",
        "y = x + 7\r\n",
        "print(y)"
      ],
      "execution_count": null,
      "outputs": [
        {
          "output_type": "stream",
          "text": [
            "10\n",
            "15\n",
            "17\n"
          ],
          "name": "stdout"
        }
      ]
    },
    {
      "cell_type": "code",
      "metadata": {
        "colab": {
          "base_uri": "https://localhost:8080/"
        },
        "id": "zDrZrgHseN_e",
        "outputId": "cfdc1d61-acbd-476c-9f41-40075502058e"
      },
      "source": [
        "list(range(10))"
      ],
      "execution_count": null,
      "outputs": [
        {
          "output_type": "execute_result",
          "data": {
            "text/plain": [
              "[0, 1, 2, 3, 4, 5, 6, 7, 8, 9]"
            ]
          },
          "metadata": {
            "tags": []
          },
          "execution_count": 5
        }
      ]
    },
    {
      "cell_type": "code",
      "metadata": {
        "colab": {
          "base_uri": "https://localhost:8080/"
        },
        "id": "8TNXyb5jelIE",
        "outputId": "167507e5-5db1-4f76-ddd0-3c48aa613778"
      },
      "source": [
        "for n in range(10):\r\n",
        "  print(n)\r\n",
        "  pass\r\n",
        "print(\"done\")"
      ],
      "execution_count": null,
      "outputs": [
        {
          "output_type": "stream",
          "text": [
            "0\n",
            "1\n",
            "2\n",
            "3\n",
            "4\n",
            "5\n",
            "6\n",
            "7\n",
            "8\n",
            "9\n",
            "done\n"
          ],
          "name": "stdout"
        }
      ]
    },
    {
      "cell_type": "code",
      "metadata": {
        "colab": {
          "base_uri": "https://localhost:8080/"
        },
        "id": "OLZQvJi-e1Ao",
        "outputId": "70fbfd59-c2ae-4f3d-fa14-ac3ddb34d2d2"
      },
      "source": [
        "for n in range(50):\r\n",
        "  print(\"The squre of\", n, \"is\", n * n)\r\n",
        "  pass\r\n",
        "print(\"done\")"
      ],
      "execution_count": null,
      "outputs": [
        {
          "output_type": "stream",
          "text": [
            "The squre of 0 is 0\n",
            "The squre of 1 is 1\n",
            "The squre of 2 is 4\n",
            "The squre of 3 is 9\n",
            "The squre of 4 is 16\n",
            "The squre of 5 is 25\n",
            "The squre of 6 is 36\n",
            "The squre of 7 is 49\n",
            "The squre of 8 is 64\n",
            "The squre of 9 is 81\n",
            "The squre of 10 is 100\n",
            "The squre of 11 is 121\n",
            "The squre of 12 is 144\n",
            "The squre of 13 is 169\n",
            "The squre of 14 is 196\n",
            "The squre of 15 is 225\n",
            "The squre of 16 is 256\n",
            "The squre of 17 is 289\n",
            "The squre of 18 is 324\n",
            "The squre of 19 is 361\n",
            "The squre of 20 is 400\n",
            "The squre of 21 is 441\n",
            "The squre of 22 is 484\n",
            "The squre of 23 is 529\n",
            "The squre of 24 is 576\n",
            "The squre of 25 is 625\n",
            "The squre of 26 is 676\n",
            "The squre of 27 is 729\n",
            "The squre of 28 is 784\n",
            "The squre of 29 is 841\n",
            "The squre of 30 is 900\n",
            "The squre of 31 is 961\n",
            "The squre of 32 is 1024\n",
            "The squre of 33 is 1089\n",
            "The squre of 34 is 1156\n",
            "The squre of 35 is 1225\n",
            "The squre of 36 is 1296\n",
            "The squre of 37 is 1369\n",
            "The squre of 38 is 1444\n",
            "The squre of 39 is 1521\n",
            "The squre of 40 is 1600\n",
            "The squre of 41 is 1681\n",
            "The squre of 42 is 1764\n",
            "The squre of 43 is 1849\n",
            "The squre of 44 is 1936\n",
            "The squre of 45 is 2025\n",
            "The squre of 46 is 2116\n",
            "The squre of 47 is 2209\n",
            "The squre of 48 is 2304\n",
            "The squre of 49 is 2401\n",
            "done\n"
          ],
          "name": "stdout"
        }
      ]
    },
    {
      "cell_type": "code",
      "metadata": {
        "colab": {
          "base_uri": "https://localhost:8080/"
        },
        "id": "qRYiGi-TfV8R",
        "outputId": "0b950279-e032-48df-8253-bd271fc30d4a"
      },
      "source": [
        "# 다음 코드는 2의 3승을 출력합니다.\r\n",
        "print(2**3)"
      ],
      "execution_count": null,
      "outputs": [
        {
          "output_type": "stream",
          "text": [
            "8\n"
          ],
          "name": "stdout"
        }
      ]
    },
    {
      "cell_type": "code",
      "metadata": {
        "id": "k88-OvaYfmIJ"
      },
      "source": [
        "# 2개의 숫자를 입력받아\r\n",
        "# 그 평균을 출력하는 함수\r\n",
        "def avg(x, y):\r\n",
        "  print(\"first input is\", x)\r\n",
        "  print(\"second input is\", y)\r\n",
        "  a = (x + y) / 2.0\r\n",
        "  print(\"average is\", a)\r\n",
        "  return a"
      ],
      "execution_count": null,
      "outputs": []
    },
    {
      "cell_type": "code",
      "metadata": {
        "colab": {
          "base_uri": "https://localhost:8080/"
        },
        "id": "-SAck9nqgN96",
        "outputId": "374f1a1e-2c15-4ce1-bf09-2e4575e65e5d"
      },
      "source": [
        "avg(2, 4)"
      ],
      "execution_count": null,
      "outputs": [
        {
          "output_type": "stream",
          "text": [
            "first input is 2\n",
            "second input is 4\n",
            "average is 3.0\n"
          ],
          "name": "stdout"
        },
        {
          "output_type": "execute_result",
          "data": {
            "text/plain": [
              "3.0"
            ]
          },
          "metadata": {
            "tags": []
          },
          "execution_count": 15
        }
      ]
    },
    {
      "cell_type": "code",
      "metadata": {
        "colab": {
          "base_uri": "https://localhost:8080/"
        },
        "id": "1VKLc5eGgupG",
        "outputId": "9ae4c95c-9f54-478f-8344-2b39166a118f"
      },
      "source": [
        "avg(200, 301)"
      ],
      "execution_count": null,
      "outputs": [
        {
          "output_type": "stream",
          "text": [
            "first input is 200\n",
            "second input is 301\n",
            "average is 250.5\n"
          ],
          "name": "stdout"
        },
        {
          "output_type": "execute_result",
          "data": {
            "text/plain": [
              "250.5"
            ]
          },
          "metadata": {
            "tags": []
          },
          "execution_count": 16
        }
      ]
    },
    {
      "cell_type": "code",
      "metadata": {
        "id": "NszLzBR_hFIE"
      },
      "source": [
        "import numpy"
      ],
      "execution_count": null,
      "outputs": []
    },
    {
      "cell_type": "code",
      "metadata": {
        "colab": {
          "base_uri": "https://localhost:8080/"
        },
        "id": "oCgii-hnhak6",
        "outputId": "d1a0de65-206d-40ea-f73f-29bb4b481346"
      },
      "source": [
        "a = numpy.zeros([3, 2])\r\n",
        "print(a)"
      ],
      "execution_count": null,
      "outputs": [
        {
          "output_type": "stream",
          "text": [
            "[[0. 0.]\n",
            " [0. 0.]\n",
            " [0. 0.]]\n"
          ],
          "name": "stdout"
        }
      ]
    },
    {
      "cell_type": "code",
      "metadata": {
        "colab": {
          "base_uri": "https://localhost:8080/"
        },
        "id": "241hmqtShkJC",
        "outputId": "498e7e4c-c62d-4436-f5ff-2e73da38a452"
      },
      "source": [
        "a[0, 0] = 1\r\n",
        "a[0, 1] = 2\r\n",
        "a[1, 0] = 9\r\n",
        "a[2, 1] = 12\r\n",
        "print(a)"
      ],
      "execution_count": null,
      "outputs": [
        {
          "output_type": "stream",
          "text": [
            "[[ 1.  2.]\n",
            " [ 9.  0.]\n",
            " [ 0. 12.]]\n"
          ],
          "name": "stdout"
        }
      ]
    },
    {
      "cell_type": "code",
      "metadata": {
        "colab": {
          "base_uri": "https://localhost:8080/"
        },
        "id": "JfNi9BA6iFgP",
        "outputId": "c2e266e7-6a6b-4ac4-db2c-6873f741b600"
      },
      "source": [
        "print(a[0, 1])\r\n",
        "v = a[1, 0]\r\n",
        "print(v)"
      ],
      "execution_count": null,
      "outputs": [
        {
          "output_type": "stream",
          "text": [
            "2.0\n",
            "9.0\n"
          ],
          "name": "stdout"
        }
      ]
    },
    {
      "cell_type": "code",
      "metadata": {
        "colab": {
          "base_uri": "https://localhost:8080/",
          "height": 190
        },
        "id": "0jq5aD7Qib3H",
        "outputId": "c873923d-58c2-453b-c710-efc5b4f0a577"
      },
      "source": [
        "# trying to look up an array element that doesn't exist\r\n",
        "a[0, 2]"
      ],
      "execution_count": null,
      "outputs": [
        {
          "output_type": "error",
          "ename": "IndexError",
          "evalue": "ignored",
          "traceback": [
            "\u001b[0;31m---------------------------------------------------------------------------\u001b[0m",
            "\u001b[0;31mIndexError\u001b[0m                                Traceback (most recent call last)",
            "\u001b[0;32m<ipython-input-23-181c58816b32>\u001b[0m in \u001b[0;36m<module>\u001b[0;34m()\u001b[0m\n\u001b[1;32m      1\u001b[0m \u001b[0;31m# trying to look up an array element that doesn't exist\u001b[0m\u001b[0;34m\u001b[0m\u001b[0;34m\u001b[0m\u001b[0;34m\u001b[0m\u001b[0m\n\u001b[0;32m----> 2\u001b[0;31m \u001b[0ma\u001b[0m\u001b[0;34m[\u001b[0m\u001b[0;36m0\u001b[0m\u001b[0;34m,\u001b[0m \u001b[0;36m2\u001b[0m\u001b[0;34m]\u001b[0m\u001b[0;34m\u001b[0m\u001b[0;34m\u001b[0m\u001b[0m\n\u001b[0m",
            "\u001b[0;31mIndexError\u001b[0m: index 2 is out of bounds for axis 1 with size 2"
          ]
        }
      ]
    },
    {
      "cell_type": "code",
      "metadata": {
        "id": "avp_1r80izVh"
      },
      "source": [
        "import matplotlib.pyplot"
      ],
      "execution_count": null,
      "outputs": []
    },
    {
      "cell_type": "code",
      "metadata": {
        "id": "QGrNtXIajTvt"
      },
      "source": [
        "%matplotlib inline"
      ],
      "execution_count": null,
      "outputs": []
    },
    {
      "cell_type": "code",
      "metadata": {
        "colab": {
          "base_uri": "https://localhost:8080/",
          "height": 287
        },
        "id": "CRba1KE_jYHq",
        "outputId": "8ec3df03-00c8-4de2-cae0-661490684bac"
      },
      "source": [
        "# 배열 시각화\r\n",
        "matplotlib.pyplot.imshow(a, interpolation=\"nearest\")"
      ],
      "execution_count": null,
      "outputs": [
        {
          "output_type": "execute_result",
          "data": {
            "text/plain": [
              "<matplotlib.image.AxesImage at 0x7f8a25354cd0>"
            ]
          },
          "metadata": {
            "tags": []
          },
          "execution_count": 27
        },
        {
          "output_type": "display_data",
          "data": {
            "image/png": "[encoded data removed]",
            "text/plain": [
              "<Figure size 432x288 with 1 Axes>"
            ]
          },
          "metadata": {
            "tags": [],
            "needs_background": "light"
          }
        }
      ]
    },
    {
      "cell_type": "code",
      "metadata": {
        "id": "IrZAWNDAjfuk"
      },
      "source": [
        "# 개 객체를 위한 클래스\r\n",
        "class Dog():\r\n",
        "\r\n",
        "  # 개는 짖을 수 있습니다(bark).\r\n",
        "  def bark(self):\r\n",
        "    print(\"woof!\")\r\n",
        "    pass\r\n",
        "\r\n",
        "  pass"
      ],
      "execution_count": null,
      "outputs": []
    },
    {
      "cell_type": "code",
      "metadata": {
        "colab": {
          "base_uri": "https://localhost:8080/"
        },
        "id": "phdzVVBikHgV",
        "outputId": "0fc44555-78ea-48fa-a5a9-48c7f4c925cf"
      },
      "source": [
        "sizzles = Dog()\r\n",
        "sizzles.bark()"
      ],
      "execution_count": null,
      "outputs": [
        {
          "output_type": "stream",
          "text": [
            "woof!\n"
          ],
          "name": "stdout"
        }
      ]
    },
    {
      "cell_type": "code",
      "metadata": {
        "colab": {
          "base_uri": "https://localhost:8080/"
        },
        "id": "lLEI3cCmkVjF",
        "outputId": "8e8d6c88-3f6a-43f2-a885-618cd36fb0ab"
      },
      "source": [
        "sizzles = Dog()\r\n",
        "mutley = Dog()\r\n",
        "\r\n",
        "sizzles.bark()\r\n",
        "mutley.bark()"
      ],
      "execution_count": null,
      "outputs": [
        {
          "output_type": "stream",
          "text": [
            "woof!\n",
            "woof!\n"
          ],
          "name": "stdout"
        }
      ]
    },
    {
      "cell_type": "code",
      "metadata": {
        "id": "jn10rGIVljw3"
      },
      "source": [
        "# 개 객체를 위한 클래스\r\n",
        "class Dog():\r\n",
        "\r\n",
        "  # 내부 데이터 초기화\r\n",
        "  def __init__(self, petname, temp):\r\n",
        "    self.name = petname\r\n",
        "    self.temperature = temp\r\n",
        "  \r\n",
        "  # 상태 확인\r\n",
        "  def status(self):\r\n",
        "    print(\"dog name is\", self.name)\r\n",
        "    print(\"dog temperature is\", self.temperature)\r\n",
        "    pass\r\n",
        "  \r\n",
        "  # 온도 설정\r\n",
        "  def setTemperature(self, temp):\r\n",
        "    self.temperature = temp\r\n",
        "    pass\r\n",
        "\r\n",
        "  # 개가 짖습니다\r\n",
        "  def bark(self):\r\n",
        "    print(\"woof!\")\r\n",
        "    pass\r\n",
        "\r\n",
        "  pass"
      ],
      "execution_count": null,
      "outputs": []
    },
    {
      "cell_type": "code",
      "metadata": {
        "colab": {
          "base_uri": "https://localhost:8080/"
        },
        "id": "-jO9nbzDnIMO",
        "outputId": "b42e4f85-de66-44fb-b425-4a58d8402bdb"
      },
      "source": [
        "lassie = Dog(\"Lassie\", 37)\r\n",
        "lassie.status()"
      ],
      "execution_count": null,
      "outputs": [
        {
          "output_type": "stream",
          "text": [
            "dog name is Lassie\n",
            "dog temperature is 37\n"
          ],
          "name": "stdout"
        }
      ]
    },
    {
      "cell_type": "code",
      "metadata": {
        "colab": {
          "base_uri": "https://localhost:8080/"
        },
        "id": "7Sndc8GLookb",
        "outputId": "d5ebba3e-b14f-4aa3-b772-00ae5207a794"
      },
      "source": [
        "# 온도 변화\r\n",
        "lassie.setTemperature(40)\r\n",
        "lassie.status()"
      ],
      "execution_count": null,
      "outputs": [
        {
          "output_type": "stream",
          "text": [
            "dog name is Lassie\n",
            "dog temperature is 40\n"
          ],
          "name": "stdout"
        }
      ]
    },
    {
      "cell_type": "code",
      "metadata": {
        "id": "oGLZqCoNfUxH"
      },
      "source": [
        "import scipy.special"
      ],
      "execution_count": null,
      "outputs": []
    },
    {
      "cell_type": "code",
      "metadata": {
        "id": "AxwcG3_Co7wx"
      },
      "source": [
        "# 신경망 클래스의 정의\r\n",
        "class neuralNetwork():\r\n",
        "\r\n",
        "  #신경망 초기화하기\r\n",
        "  def __init__(self, inputnodes, hiddennodes, outputnodes, learningrate):\r\n",
        "    # 입력, 은닉, 출력 계층의 노드 개수 설정\r\n",
        "    self.inodes = inputnodes\r\n",
        "    self.hnodes = hiddennodes\r\n",
        "    self.onodes = outputnodes\r\n",
        "\r\n",
        "    # 가중치 행렬 wih와 who\r\n",
        "    # 배열 내 가중치는 w_i_j로 표기. 노드 i에서 다음 계층의 노드 j로 연결됨을 의미\r\n",
        "    # w11 w21\r\n",
        "    # w12 w22 등\r\n",
        "    self.wih = np.random.normal(0.0, pow(self.hnodes, -0.5), (self.hnodes, self.inodes))\r\n",
        "    self.who = np.random.normal(0.0, pow(self.onodes, -0.5), (self.onodes, self.hnodes))\r\n",
        "\r\n",
        "    # 학습률\r\n",
        "    self.lr = learningrate\r\n",
        "\r\n",
        "    # 활성화 함수로 시그모이드 함수를 이용\r\n",
        "    self.activation_function = lambda x: scipy.special.expit(x)\r\n",
        "    pass\r\n",
        "\r\n",
        "  #신경망 학습시키기\r\n",
        "  def train():\r\n",
        "    pass\r\n",
        "\r\n",
        "  # 신경망에 질의하기\r\n",
        "  def query():\r\n",
        "    pass"
      ],
      "execution_count": null,
      "outputs": []
    },
    {
      "cell_type": "code",
      "metadata": {
        "id": "P8B5nJCZq53j"
      },
      "source": [
        "# 입력, 은닉, 출력 노드의 수\r\n",
        "input_nodes = 3\r\n",
        "hidden_nodes = 3\r\n",
        "output_nodes = 3\r\n",
        "\r\n",
        "# 학습률은 0.3으로 정의\r\n",
        "learning_rate = 0.3\r\n",
        "# 신경망의 인스턴스를 생성\r\n",
        "n = neuralNetwork(input_nodes, hidden_nodes, output_nodes, learning_rate)"
      ],
      "execution_count": null,
      "outputs": []
    },
    {
      "cell_type": "code",
      "metadata": {
        "id": "0UqER-sQtzSI"
      },
      "source": [
        "import numpy as np"
      ],
      "execution_count": null,
      "outputs": []
    },
    {
      "cell_type": "code",
      "metadata": {
        "colab": {
          "base_uri": "https://localhost:8080/"
        },
        "id": "jS7Qo_yAtno5",
        "outputId": "0834f26b-219b-465e-d6e3-dbd36ebb89fd"
      },
      "source": [
        "np.random.rand(3, 3)"
      ],
      "execution_count": null,
      "outputs": [
        {
          "output_type": "execute_result",
          "data": {
            "text/plain": [
              "array([[0.26488323, 0.24282156, 0.55888165],\n",
              "       [0.7471641 , 0.30729748, 0.2897379 ],\n",
              "       [0.88224152, 0.5694093 , 0.42780523]])"
            ]
          },
          "metadata": {
            "tags": []
          },
          "execution_count": 19
        }
      ]
    },
    {
      "cell_type": "code",
      "metadata": {
        "colab": {
          "base_uri": "https://localhost:8080/"
        },
        "id": "UVsk3eCeuQI0",
        "outputId": "32bd75bf-2756-42e7-f5b7-2ddf1d40f07f"
      },
      "source": [
        "np.random.rand(3, 3) - 0.5"
      ],
      "execution_count": null,
      "outputs": [
        {
          "output_type": "execute_result",
          "data": {
            "text/plain": [
              "array([[-0.36692487, -0.3481778 , -0.27783257],\n",
              "       [-0.2898372 ,  0.36042415, -0.2039098 ],\n",
              "       [-0.06389074, -0.15039762,  0.07004854]])"
            ]
          },
          "metadata": {
            "tags": []
          },
          "execution_count": 20
        }
      ]
    }
  ]
}